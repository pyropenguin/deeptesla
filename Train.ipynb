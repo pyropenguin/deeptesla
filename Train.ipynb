{
  "nbformat": 4,
  "nbformat_minor": 0,
  "metadata": {
    "colab": {
      "name": "Train.ipynb",
      "provenance": [],
      "authorship_tag": "ABX9TyNROm0bFno0uq6xVI+u0zSs",
      "include_colab_link": true
    },
    "kernelspec": {
      "name": "python3",
      "display_name": "Python 3"
    },
    "language_info": {
      "name": "python"
    }
  },
  "cells": [
    {
      "cell_type": "markdown",
      "metadata": {
        "id": "view-in-github",
        "colab_type": "text"
      },
      "source": [
        "<a href=\"https://colab.research.google.com/github/pyropenguin/deeptesla/blob/master/Train.ipynb\" target=\"_parent\"><img src=\"https://colab.research.google.com/assets/colab-badge.svg\" alt=\"Open In Colab\"/></a>"
      ]
    },
    {
      "cell_type": "code",
      "execution_count": 2,
      "metadata": {
        "colab": {
          "base_uri": "https://localhost:8080/"
        },
        "id": "-bLDqJy3ruYo",
        "outputId": "1bba1013-7015-4daf-8e8d-a10cd4b5f214"
      },
      "outputs": [
        {
          "output_type": "stream",
          "name": "stdout",
          "text": [
            "Cloning into 'deeptesla'...\n",
            "remote: Enumerating objects: 68, done.\u001b[K\n",
            "remote: Counting objects: 100% (68/68), done.\u001b[K\n",
            "remote: Compressing objects: 100% (61/61), done.\u001b[K\n",
            "remote: Total 68 (delta 10), reused 63 (delta 5), pack-reused 0\u001b[K\n",
            "Unpacking objects: 100% (68/68), done.\n"
          ]
        }
      ],
      "source": [
        "!git clone https://github.com/pyropenguin/deeptesla.git"
      ]
    },
    {
      "cell_type": "code",
      "source": [
        "!cd deeptesla"
      ],
      "metadata": {
        "id": "3OCqf_HV9pxS"
      },
      "execution_count": 3,
      "outputs": []
    }
  ]
}